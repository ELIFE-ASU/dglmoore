{
 "cells": [
  {
   "cell_type": "code",
   "execution_count": 1,
   "metadata": {},
   "outputs": [],
   "source": [
    "using Distributed, DrWatson\n",
    "addprocs(36);"
   ]
  },
  {
   "cell_type": "code",
   "execution_count": 2,
   "metadata": {},
   "outputs": [
    {
     "name": "stdout",
     "output_type": "stream",
     "text": [
      "\u001b[32m\u001b[1mActivating\u001b[22m\u001b[39m environment at `~/dglmoore/yuji/Project.toml`\n",
      "      From worker 10:\tActivating environment at `~/dglmoore/yuji/Project.toml`\n",
      "      From worker 4:\tActivating environment at `~/dglmoore/yuji/Project.toml`\n",
      "      From worker 9:\tActivating environment at `~/dglmoore/yuji/Project.toml`\n",
      "      From worker 3:\tActivating environment at `~/dglmoore/yuji/Project.toml`\n",
      "      From worker 6:\tActivating environment at `~/dglmoore/yuji/Project.toml`\n",
      "      From worker 7:\tActivating environment at `~/dglmoore/yuji/Project.toml`\n",
      "      From worker 2:\tActivating environment at `~/dglmoore/yuji/Project.toml`\n",
      "      From worker 8:\tActivating environment at `~/dglmoore/yuji/Project.toml`\n",
      "      From worker 5:\tActivating environment at `~/dglmoore/yuji/Project.toml`\n",
      "      From worker 12:\tActivating environment at `~/dglmoore/yuji/Project.toml`\n",
      "      From worker 30:\tActivating environment at `~/dglmoore/yuji/Project.toml`\n",
      "      From worker 32:\tActivating environment at `~/dglmoore/yuji/Project.toml`\n",
      "      From worker 13:\tActivating environment at `~/dglmoore/yuji/Project.toml`\n",
      "      From worker 36:\tActivating environment at `~/dglmoore/yuji/Project.toml`\n",
      "      From worker 14:\tActivating environment at `~/dglmoore/yuji/Project.toml`\n",
      "      From worker 15:\tActivating environment at `~/dglmoore/yuji/Project.toml`\n",
      "      From worker 19:\tActivating environment at `~/dglmoore/yuji/Project.toml`\n",
      "      From worker 33:\tActivating environment at `~/dglmoore/yuji/Project.toml`\n",
      "      From worker 28:\tActivating environment at `~/dglmoore/yuji/Project.toml`\n",
      "      From worker 24:\tActivating environment at `~/dglmoore/yuji/Project.toml`\n",
      "      From worker 21:\tActivating environment at `~/dglmoore/yuji/Project.toml`\n",
      "      From worker 23:\tActivating environment at `~/dglmoore/yuji/Project.toml`\n",
      "      From worker 17:\tActivating environment at `~/dglmoore/yuji/Project.toml`\n",
      "      From worker 31:\tActivating environment at `~/dglmoore/yuji/Project.toml`\n",
      "      From worker 18:\tActivating environment at `~/dglmoore/yuji/Project.toml`\n",
      "      From worker 34:\tActivating environment at `~/dglmoore/yuji/Project.toml`\n",
      "      From worker 29:\tActivating environment at `~/dglmoore/yuji/Project.toml`\n",
      "      From worker 26:\tActivating environment at `~/dglmoore/yuji/Project.toml`\n",
      "      From worker 20:\tActivating environment at `~/dglmoore/yuji/Project.toml`\n",
      "      From worker 16:\tActivating environment at `~/dglmoore/yuji/Project.toml`\n",
      "      From worker 27:\tActivating environment at `~/dglmoore/yuji/Project.toml`\n",
      "      From worker 35:\tActivating environment at `~/dglmoore/yuji/Project.toml`\n",
      "      From worker 25:\tActivating environment at `~/dglmoore/yuji/Project.toml`\n",
      "      From worker 22:\tActivating environment at `~/dglmoore/yuji/Project.toml`\n",
      "      From worker 11:\tActivating environment at `~/dglmoore/yuji/Project.toml`\n",
      "      From worker 37:\tActivating environment at `~/dglmoore/yuji/Project.toml`\n"
     ]
    }
   ],
   "source": [
    "@everywhere begin\n",
    "    using Pkg\n",
    "    Pkg.activate(\"..\")\n",
    "    using Distributed, DrWatson, Base.Iterators, SharedArrays\n",
    "    include(\"../src/load.jl\")\n",
    "    include(\"../src/info.jl\")\n",
    "    include(\"../src/binning.jl\")\n",
    "end"
   ]
  },
  {
   "cell_type": "code",
   "execution_count": 7,
   "metadata": {},
   "outputs": [],
   "source": [
    "fs = crop(frames(datadir(\"videos\",\"drug=K-gluconate_phase=before_trial=01.mov\")), 400, 400, :)\n",
    "g = green(fs)\n",
    "grid = coarse(g, 1, 30);"
   ]
  },
  {
   "cell_type": "code",
   "execution_count": 8,
   "metadata": {},
   "outputs": [
    {
     "data": {
      "text/plain": [
       "analyze (generic function with 1 method)"
      ]
     },
     "execution_count": 8,
     "metadata": {},
     "output_type": "execute_result"
    }
   ],
   "source": [
    "include(\"../src/analysis.jl\")"
   ]
  },
  {
   "cell_type": "code",
   "execution_count": 11,
   "metadata": {},
   "outputs": [
    {
     "name": "stdout",
     "output_type": "stream",
     "text": [
      " 14.721181 seconds (117.32 k allocations: 9.314 MiB)\n",
      " 16.044411 seconds (122.19 k allocations: 9.623 MiB)\n"
     ]
    }
   ],
   "source": [
    "mi = let\n",
    "    Random.seed!(2019)\n",
    "    @time analyze(grid; nperms=100000)\n",
    "    Random.seed!(2019)\n",
    "    @time analyze(grid; nperms=100000)\n",
    "end;"
   ]
  }
 ],
 "metadata": {
  "kernelspec": {
   "display_name": "Julia 1.3.0",
   "language": "julia",
   "name": "julia-1.3"
  },
  "language_info": {
   "file_extension": ".jl",
   "mimetype": "application/julia",
   "name": "julia",
   "version": "1.3.0"
  }
 },
 "nbformat": 4,
 "nbformat_minor": 4
}
