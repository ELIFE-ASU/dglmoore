{
 "cells": [
  {
   "cell_type": "code",
   "execution_count": 1,
   "metadata": {},
   "outputs": [],
   "source": [
    "using Distributed\n",
    "addprocs(2);"
   ]
  },
  {
   "cell_type": "code",
   "execution_count": 2,
   "metadata": {},
   "outputs": [],
   "source": [
    "@everywhere begin\n",
    "    using Pkg\n",
    "    Pkg.activate(\"..\")\n",
    "    using Distributed, Base.Iterators, SharedArrays\n",
    "    include(\"../src/load.jl\")\n",
    "    include(\"../src/info.jl\")\n",
    "    include(\"../src/binning.jl\")\n",
    "end"
   ]
  },
  {
   "cell_type": "code",
   "execution_count": 9,
   "metadata": {},
   "outputs": [
    {
     "data": {
      "text/plain": [
       "analyze (generic function with 1 method)"
      ]
     },
     "execution_count": 9,
     "metadata": {},
     "output_type": "execute_result"
    }
   ],
   "source": [
    "include(\"../src/analysis.jl\")"
   ]
  },
  {
   "cell_type": "code",
   "execution_count": 4,
   "metadata": {},
   "outputs": [],
   "source": [
    "fs = frames(\"../videos/Before2-MPGC.mov\")[57:456, 61:460, :]\n",
    "g = green(fs)\n",
    "grid = gridmean(g, 10, 10);"
   ]
  },
  {
   "cell_type": "code",
   "execution_count": 10,
   "metadata": {},
   "outputs": [
    {
     "name": "stdout",
     "output_type": "stream",
     "text": [
      " 10.565484 seconds (2.40 M allocations: 125.490 MiB, 0.55% gc time)\n"
     ]
    }
   ],
   "source": [
    "Random.seed!(2019)\n",
    "@time begin\n",
    "    mi = analyze(grid; nperms=100)\n",
    "end;"
   ]
  },
  {
   "cell_type": "code",
   "execution_count": 12,
   "metadata": {},
   "outputs": [
    {
     "name": "stdout",
     "output_type": "stream",
     "text": [
      " 78.165885 seconds (4.22 k allocations: 2.477 MiB)\n"
     ]
    }
   ],
   "source": [
    "Random.seed!(2019)\n",
    "@time begin\n",
    "    mi = analyze(grid; nperms=1000)\n",
    "end;"
   ]
  }
 ],
 "metadata": {
  "kernelspec": {
   "display_name": "Julia 1.1.1",
   "language": "julia",
   "name": "julia-1.1"
  },
  "language_info": {
   "file_extension": ".jl",
   "mimetype": "application/julia",
   "name": "julia",
   "version": "1.1.1"
  }
 },
 "nbformat": 4,
 "nbformat_minor": 4
}
