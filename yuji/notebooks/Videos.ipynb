{
 "cells": [
  {
   "cell_type": "code",
   "execution_count": 1,
   "metadata": {},
   "outputs": [
    {
     "data": {
      "text/plain": [
       "squish (generic function with 1 method)"
      ]
     },
     "execution_count": 1,
     "metadata": {},
     "output_type": "execute_result"
    }
   ],
   "source": [
    "using Pkg\n",
    "Pkg.activate(\"..\")\n",
    "include(\"../src/load.jl\")\n",
    "include(\"../src/binning.jl\")"
   ]
  },
  {
   "cell_type": "code",
   "execution_count": 3,
   "metadata": {},
   "outputs": [
    {
     "data": {
      "text/plain": [
       "rescale (generic function with 1 method)"
      ]
     },
     "execution_count": 3,
     "metadata": {},
     "output_type": "execute_result"
    }
   ],
   "source": [
    "rescale(frames) = let (min, max) = extrema(frames)\n",
    "   @. (frames - min) / (max - min) \n",
    "end"
   ]
  },
  {
   "cell_type": "code",
   "execution_count": 41,
   "metadata": {},
   "outputs": [
    {
     "data": {
      "text/plain": [
       "exportvideo (generic function with 1 method)"
      ]
     },
     "execution_count": 41,
     "metadata": {},
     "output_type": "execute_result"
    }
   ],
   "source": [
    "function exportvideo(filename, frames; fps=10)\n",
    "    framestack = []\n",
    "    for i in 1:size(frames, 3)\n",
    "       push!(framestack, Gray{Normed{UInt8,8}}.(frames[:,:,i]))\n",
    "    end\n",
    "    encodevideo(filename, framestack, framerate=fps)\n",
    "end"
   ]
  },
  {
   "cell_type": "code",
   "execution_count": 5,
   "metadata": {},
   "outputs": [
    {
     "data": {
      "text/plain": [
       "expand (generic function with 1 method)"
      ]
     },
     "execution_count": 5,
     "metadata": {},
     "output_type": "execute_result"
    }
   ],
   "source": [
    "function expand(frames, height, width)\n",
    "    h, w, n = size(frames) .* (height, width, 1)\n",
    "    newframes = Array{eltype(frames)}(undef, h, w, n)\n",
    "    for i in 1:size(frames, 1), j in 1:size(frames, 2)\n",
    "        irng = height*(i-1) .+ (1:height)\n",
    "        jrng = width*(j-1) .+ (1:width)\n",
    "        for t in 1:size(frames, 3)\n",
    "            newframes[irng, jrng, t] .= frames[i, j, t]\n",
    "        end\n",
    "    end\n",
    "    newframes\n",
    "end"
   ]
  },
  {
   "cell_type": "code",
   "execution_count": 6,
   "metadata": {},
   "outputs": [],
   "source": [
    "fs = frames(\"../videos/Before2-MPGC.mov\")[57:456, 61:460, :]\n",
    "greenchannel = green(fs);"
   ]
  },
  {
   "cell_type": "code",
   "execution_count": 7,
   "metadata": {},
   "outputs": [
    {
     "name": "stderr",
     "output_type": "stream",
     "text": [
      "┌ Info: Video file saved: /home/ec2-user/yuji/notebooks/green.mp4\n",
      "└ @ VideoIO /home/ec2-user/.julia/packages/VideoIO/TXO2W/src/encoding.jl:221\n",
      "┌ Info: frame=   59 fps=0.0 q=-1.0 Lsize=     612kB time=00:00:05.60 bitrate= 895.3kbits/s speed=5.14e+03x    \n",
      "└ @ VideoIO /home/ec2-user/.julia/packages/VideoIO/TXO2W/src/encoding.jl:222\n",
      "┌ Info: video:611kB audio:0kB subtitle:0kB other streams:0kB global headers:0kB muxing overhead: 0.168941%\n",
      "└ @ VideoIO /home/ec2-user/.julia/packages/VideoIO/TXO2W/src/encoding.jl:223\n"
     ]
    }
   ],
   "source": [
    "exportvideo(\"green.mp4\", greenchannel);"
   ]
  },
  {
   "cell_type": "code",
   "execution_count": 205,
   "metadata": {},
   "outputs": [],
   "source": [
    "grid10x10 = gridmean(greenchannel, 10, 10)\n",
    "grid1x10 = gridmean(greenchannel, 1, 10)\n",
    "grid10x1 = gridmean(greenchannel, 10, 1);"
   ]
  },
  {
   "cell_type": "code",
   "execution_count": 43,
   "metadata": {},
   "outputs": [
    {
     "name": "stderr",
     "output_type": "stream",
     "text": [
      "┌ Info: Video file saved: /home/ec2-user/yuji/notebooks/../data/10x10/grouped.mp4\n",
      "└ @ VideoIO /home/ec2-user/.julia/packages/VideoIO/TXO2W/src/encoding.jl:221\n",
      "┌ Info: frame=   59 fps=0.0 q=-1.0 Lsize=      38kB time=00:00:28.00 bitrate=  11.1kbits/s speed=4.55e+04x    \n",
      "└ @ VideoIO /home/ec2-user/.julia/packages/VideoIO/TXO2W/src/encoding.jl:222\n",
      "┌ Info: video:37kB audio:0kB subtitle:0kB other streams:0kB global headers:0kB muxing overhead: 2.850457%\n",
      "└ @ VideoIO /home/ec2-user/.julia/packages/VideoIO/TXO2W/src/encoding.jl:223\n",
      "┌ Info: Video file saved: /home/ec2-user/yuji/notebooks/../data/1x10/grouped.mp4\n",
      "└ @ VideoIO /home/ec2-user/.julia/packages/VideoIO/TXO2W/src/encoding.jl:221\n",
      "┌ Info: frame=   59 fps=0.0 q=-1.0 Lsize=       8kB time=00:00:28.00 bitrate=   2.5kbits/s speed=7.2e+04x    \n",
      "└ @ VideoIO /home/ec2-user/.julia/packages/VideoIO/TXO2W/src/encoding.jl:222\n",
      "┌ Info: video:7kB audio:0kB subtitle:0kB other streams:0kB global headers:0kB muxing overhead: 13.860477%\n",
      "└ @ VideoIO /home/ec2-user/.julia/packages/VideoIO/TXO2W/src/encoding.jl:223\n",
      "┌ Info: Video file saved: /home/ec2-user/yuji/notebooks/../data/10x1/grouped.mp4\n",
      "└ @ VideoIO /home/ec2-user/.julia/packages/VideoIO/TXO2W/src/encoding.jl:221\n",
      "┌ Info: frame=   59 fps=0.0 q=-1.0 Lsize=       9kB time=00:00:28.00 bitrate=   2.6kbits/s speed=7.71e+04x    \n",
      "└ @ VideoIO /home/ec2-user/.julia/packages/VideoIO/TXO2W/src/encoding.jl:222\n",
      "┌ Info: video:8kB audio:0kB subtitle:0kB other streams:0kB global headers:0kB muxing overhead: 13.262234%\n",
      "└ @ VideoIO /home/ec2-user/.julia/packages/VideoIO/TXO2W/src/encoding.jl:223\n"
     ]
    }
   ],
   "source": [
    "exportvideo(\"../data/10x10/grouped.mp4\", expand(rescale(grid10x10), 40, 40); fps=2)\n",
    "exportvideo(\"../data/1x10/grouped.mp4\", expand(rescale(grid1x10), 40, 40); fps=2)\n",
    "exportvideo(\"../data/10x1/grouped.mp4\", expand(rescale(grid10x1), 40, 40); fps=2);"
   ]
  },
  {
   "cell_type": "code",
   "execution_count": 208,
   "metadata": {},
   "outputs": [
    {
     "name": "stderr",
     "output_type": "stream",
     "text": [
      "┌ Info: Video file saved: /home/ec2-user/yuji/notebooks/../data/10x10/binned.mp4\n",
      "└ @ VideoIO /home/ec2-user/.julia/packages/VideoIO/TXO2W/src/encoding.jl:221\n",
      "┌ Info: frame=   55 fps=0.0 q=-1.0 Lsize=       7kB time=00:00:05.20 bitrate=  11.1kbits/s speed=1.84e+04x    \n",
      "└ @ VideoIO /home/ec2-user/.julia/packages/VideoIO/TXO2W/src/encoding.jl:222\n",
      "┌ Info: video:6kB audio:0kB subtitle:0kB other streams:0kB global headers:0kB muxing overhead: 16.966747%\n",
      "└ @ VideoIO /home/ec2-user/.julia/packages/VideoIO/TXO2W/src/encoding.jl:223\n",
      "┌ Info: Video file saved: /home/ec2-user/yuji/notebooks/../data/1x10/binned.mp4\n",
      "└ @ VideoIO /home/ec2-user/.julia/packages/VideoIO/TXO2W/src/encoding.jl:221\n",
      "┌ Info: frame=   55 fps=0.0 q=-1.0 Lsize=       3kB time=00:00:05.20 bitrate=   5.3kbits/s speed=2.21e+04x    \n",
      "└ @ VideoIO /home/ec2-user/.julia/packages/VideoIO/TXO2W/src/encoding.jl:222\n",
      "┌ Info: video:2kB audio:0kB subtitle:0kB other streams:0kB global headers:0kB muxing overhead: 42.733990%\n",
      "└ @ VideoIO /home/ec2-user/.julia/packages/VideoIO/TXO2W/src/encoding.jl:223\n",
      "┌ Info: Video file saved: /home/ec2-user/yuji/notebooks/../data/10x1/binned.mp4\n",
      "└ @ VideoIO /home/ec2-user/.julia/packages/VideoIO/TXO2W/src/encoding.jl:221\n",
      "┌ Info: frame=   55 fps=0.0 q=-1.0 Lsize=       3kB time=00:00:05.20 bitrate=   5.2kbits/s speed=2.15e+04x    \n",
      "└ @ VideoIO /home/ec2-user/.julia/packages/VideoIO/TXO2W/src/encoding.jl:222\n",
      "┌ Info: video:2kB audio:0kB subtitle:0kB other streams:0kB global headers:0kB muxing overhead: 44.091488%\n",
      "└ @ VideoIO /home/ec2-user/.julia/packages/VideoIO/TXO2W/src/encoding.jl:223\n"
     ]
    }
   ],
   "source": [
    "exportvideo(\"../data/10x10/binned.mp4\", expand(bin(grid10x10) .- 1, 40, 40); fps=10)\n",
    "exportvideo(\"../data/1x10/binned.mp4\", expand(bin(grid1x10) .- 1, 40, 40); fps=10)\n",
    "exportvideo(\"../data/10x1/binned.mp4\", expand(bin(grid10x1) .- 1, 40, 40); fps=10);"
   ]
  }
 ],
 "metadata": {
  "kernelspec": {
   "display_name": "Julia 1.1.1",
   "language": "julia",
   "name": "julia-1.1"
  },
  "language_info": {
   "file_extension": ".jl",
   "mimetype": "application/julia",
   "name": "julia",
   "version": "1.1.1"
  }
 },
 "nbformat": 4,
 "nbformat_minor": 4
}
