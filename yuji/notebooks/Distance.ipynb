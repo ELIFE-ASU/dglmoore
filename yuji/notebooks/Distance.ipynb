{
 "cells": [
  {
   "cell_type": "code",
   "execution_count": null,
   "metadata": {},
   "outputs": [],
   "source": [
    "using Pkg\n",
    "Pkg.activate(\"..\")\n",
    "using DrWatson, DataFrames, StatsPlots, Query, LinearAlgebra, Colors\n",
    "include(srcdir(\"load.jl\"))\n",
    "ENV[\"GKS_WSTYPE\"] = \"png\"\n",
    "const outdir = projectdir(\"tmp\", \"plots\", \"distance\")\n",
    "mkpath(outdir)"
   ]
  },
  {
   "cell_type": "code",
   "execution_count": 2,
   "metadata": {},
   "outputs": [
    {
     "name": "stderr",
     "output_type": "stream",
     "text": [
      "┌ Info: Scanning folder /home/ec2-user/dglmoore/yuji/data/info/te for result files.\n",
      "└ @ DrWatson /home/ec2-user/.julia/packages/DrWatson/vLVOx/src/result_collection.jl:79\n",
      "┌ Info: Added 972 entries.\n",
      "└ @ DrWatson /home/ec2-user/.julia/packages/DrWatson/vLVOx/src/result_collection.jl:107\n"
     ]
    }
   ],
   "source": [
    "results = collect_results(datadir(\"info\", \"te\")) |>\n",
    "    @filter(_.gh == 30 && _.gw == 30 && _.k == 3) |>\n",
    "    DataFrame;"
   ]
  },
  {
   "cell_type": "code",
   "execution_count": 3,
   "metadata": {},
   "outputs": [],
   "source": [
    "const W = 30;"
   ]
  },
  {
   "cell_type": "code",
   "execution_count": 4,
   "metadata": {},
   "outputs": [
    {
     "data": {
      "text/plain": [
       "distance (generic function with 1 method)"
      ]
     },
     "execution_count": 4,
     "metadata": {},
     "output_type": "execute_result"
    }
   ],
   "source": [
    "distance(x, y) = norm(x .- y)"
   ]
  },
  {
   "cell_type": "code",
   "execution_count": 5,
   "metadata": {},
   "outputs": [],
   "source": [
    "δ = DataFrame(drug=String[], trial=Int[], phase=String[], distance=Float64[], te=Float64[])\n",
    "for row in eachrow(results)\n",
    "    te = linearize(row[:te])\n",
    "    for i in 1:size(te, 1)\n",
    "        for j in 1:size(te, 2)\n",
    "            if te[j,i] >= te[i,j] && te[j,i] != zero(te[j,i])\n",
    "                x = ((i - 1) ÷ W, (i - 1) % W)\n",
    "                y = ((j - 1) ÷ W, (j - 1) % W)\n",
    "                Δ = distance(x, y)\n",
    "                push!(δ, [row[:drug], row[:trial], row[:phase], Δ, te[j,i] - te[i,j]])\n",
    "            end\n",
    "        end\n",
    "    end\n",
    "end"
   ]
  },
  {
   "cell_type": "code",
   "execution_count": 6,
   "metadata": {},
   "outputs": [],
   "source": [
    "let kf = δ |> @filter(_.drug == \"K-gluconate\")\n",
    "    knf = δ |> @filter(_.drug == \"K-gluconate:Nifedipine\")\n",
    "\n",
    "    marker=(:circ, 2, 0.2)\n",
    "    color = reshape(distinguishable_colors(2, colorant\"green\") |> reverse, 1, 2)\n",
    "\n",
    "    kplot = @df kf dotplot(:distance, :te, group=:phase, marker=marker, color=color, markerstrokewidth=0)\n",
    "    knplot = @df knf dotplot(:distance, :te, group=:phase, marker=marker, color=color, markerstrokewidth=0)\n",
    "\n",
    "    plot(kplot, knplot, layout=2, title=[\"K-gluconate\" \"K-gluconate + Nifedipine\"], titleloc=:left,\n",
    "        xlabel=\"Distance\", ylabel=\"Positive Net Transfer Entropy (bits)\", size=(1000,500))\n",
    "    savefig(joinpath(outdir, \"tev.png\"))\n",
    "end"
   ]
  }
 ],
 "metadata": {
  "kernelspec": {
   "display_name": "Julia 1.3.0",
   "language": "julia",
   "name": "julia-1.3"
  },
  "language_info": {
   "file_extension": ".jl",
   "mimetype": "application/julia",
   "name": "julia",
   "version": "1.3.0"
  }
 },
 "nbformat": 4,
 "nbformat_minor": 4
}
