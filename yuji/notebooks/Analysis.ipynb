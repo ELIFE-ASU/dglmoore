{
 "cells": [
  {
   "cell_type": "markdown",
   "metadata": {},
   "source": [
    "# Simple Information Analysis of Chicken Wings"
   ]
  },
  {
   "cell_type": "code",
   "execution_count": null,
   "metadata": {},
   "outputs": [],
   "source": [
    "using Distributed\n",
    "addprocs(4);"
   ]
  },
  {
   "cell_type": "code",
   "execution_count": null,
   "metadata": {},
   "outputs": [],
   "source": [
    "@everywhere begin\n",
    "    using Pkg\n",
    "    Pkg.activate(\"..\")\n",
    "    using Distributed, Base.Iterators    \n",
    "    include(\"../src/binning.jl\")\n",
    "    include(\"../src/load.jl\")\n",
    "    include(\"../src/info.jl\")\n",
    "end"
   ]
  },
  {
   "cell_type": "code",
   "execution_count": null,
   "metadata": {},
   "outputs": [],
   "source": [
    "using DelimitedFiles, Plots\n",
    "include(\"../src/analysis.jl\")"
   ]
  },
  {
   "cell_type": "code",
   "execution_count": null,
   "metadata": {},
   "outputs": [],
   "source": [
    "fs = frames(\"../videos/Before2-MPGC.mov\")[57:456, 61:460, :];"
   ]
  },
  {
   "cell_type": "code",
   "execution_count": null,
   "metadata": {},
   "outputs": [],
   "source": [
    "g = green(fs);"
   ]
  },
  {
   "cell_type": "code",
   "execution_count": null,
   "metadata": {},
   "outputs": [],
   "source": [
    "greengrid = rescale(gridmean(g, 10, 1));"
   ]
  },
  {
   "cell_type": "code",
   "execution_count": null,
   "metadata": {},
   "outputs": [],
   "source": [
    "if haskey(ENV, \"GKS_WSTYPE\")\n",
    "    delete!(ENV, \"GKS_WSTYPE\")\n",
    "end\n",
    "p = plot(xlabel=\"time\", ylabel=\"channel value\", legend=false)\n",
    "for i in 1:size(greengrid, 1), j in 1:size(greengrid, 2)\n",
    "    plot!(p, greengrid[i,j,:])\n",
    "end\n",
    "p"
   ]
  },
  {
   "cell_type": "code",
   "execution_count": null,
   "metadata": {},
   "outputs": [],
   "source": [
    "@time greenmi = analyze(greengrid; nperms=1000);"
   ]
  },
  {
   "cell_type": "code",
   "execution_count": null,
   "metadata": {},
   "outputs": [],
   "source": [
    "anim = @animate for (l, mi) in enumerate(greenmi)\n",
    "    heatmap(linearize(mi), title=\"Lag $(l-1)\")\n",
    "end\n",
    "gif(anim; fps=0.5)"
   ]
  },
  {
   "cell_type": "code",
   "execution_count": null,
   "metadata": {},
   "outputs": [],
   "source": [
    "writedlm(\"info.txt\", hcat(linearize.(greenmi)...))"
   ]
  }
 ],
 "metadata": {
  "kernelspec": {
   "display_name": "Julia 1.1.1",
   "language": "julia",
   "name": "julia-1.1"
  },
  "language_info": {
   "file_extension": ".jl",
   "mimetype": "application/julia",
   "name": "julia",
   "version": "1.1.1"
  }
 },
 "nbformat": 4,
 "nbformat_minor": 4
}
